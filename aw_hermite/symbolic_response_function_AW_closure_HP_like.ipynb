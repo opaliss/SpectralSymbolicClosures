{
 "cells": [
  {
   "cell_type": "code",
   "execution_count": 2,
   "id": "be59ac0e-cee4-4063-a6c0-ed642384be0b",
   "metadata": {},
   "outputs": [],
   "source": [
    "import sys, os\n",
    "sys.path.append(os.path.abspath(os.path.join('..')))"
   ]
  },
  {
   "cell_type": "code",
   "execution_count": 3,
   "id": "fd1a845c",
   "metadata": {},
   "outputs": [],
   "source": [
    "import sympy \n",
    "from sympy import banded, ones, Matrix, symbols, sqrt, print_latex, oo\n",
    "import numpy as np\n",
    "import matplotlib.pyplot as plt\n",
    "from scipy.special import wofz \n",
    "import scipy"
   ]
  },
  {
   "cell_type": "code",
   "execution_count": 4,
   "id": "dcea452b-3095-48ae-beba-eafe3a65d37b",
   "metadata": {},
   "outputs": [],
   "source": [
    "%matplotlib inline\n",
    "import matplotlib\n",
    "font = {'family' : 'serif',\n",
    "        'size'   : 14}\n",
    "\n",
    "matplotlib.rc('font', **font)\n",
    "matplotlib.rc('xtick', labelsize=14) \n",
    "matplotlib.rc('ytick', labelsize=14) "
   ]
  },
  {
   "cell_type": "markdown",
   "id": "ad20dcec-8372-451f-8312-f3ff22616244",
   "metadata": {},
   "source": [
    "## Asymmetrically Weighted Hermite Linear Closures"
   ]
  },
  {
   "cell_type": "code",
   "execution_count": 8,
   "id": "9ce7845f",
   "metadata": {},
   "outputs": [],
   "source": [
    "Nv = 5"
   ]
  },
  {
   "cell_type": "code",
   "execution_count": 9,
   "id": "6f7964ab",
   "metadata": {},
   "outputs": [],
   "source": [
    "xi= symbols('xi') \n",
    "k = symbols('k', integer = True)\n",
    "c = symbols('c', complex = True)\n",
    "b = symbols('b', complex = True)\n",
    "a = symbols('a', complex = True)"
   ]
  },
  {
   "cell_type": "code",
   "execution_count": 10,
   "id": "84847bf6",
   "metadata": {},
   "outputs": [],
   "source": [
    "vec = sympy.zeros(Nv)\n",
    "for jj in range(1, Nv+1):\n",
    "    vec[jj-1] = sympy.sqrt(jj)/ (sympy.sqrt(2))"
   ]
  },
  {
   "cell_type": "code",
   "execution_count": 11,
   "id": "fa344bbd",
   "metadata": {},
   "outputs": [
    {
     "data": {
      "text/latex": [
       "$\\displaystyle \\left[\\begin{matrix}\\frac{\\sqrt{2}}{2} & 1 & \\frac{\\sqrt{6}}{2} & \\sqrt{2} & \\frac{\\sqrt{10}}{2}\\end{matrix}\\right]$"
      ],
      "text/plain": [
       "Matrix([[sqrt(2)/2, 1, sqrt(6)/2, sqrt(2), sqrt(10)/2]])"
      ]
     },
     "execution_count": 11,
     "metadata": {},
     "output_type": "execute_result"
    }
   ],
   "source": [
    "vec[0, :]"
   ]
  },
  {
   "cell_type": "code",
   "execution_count": 12,
   "id": "b60e2452",
   "metadata": {},
   "outputs": [],
   "source": [
    "A = banded({1: tuple(vec[0, :-1]), -1: tuple(vec[0, :-1])})"
   ]
  },
  {
   "cell_type": "code",
   "execution_count": 13,
   "id": "8f84f92b-bca0-4772-9f1f-6852e65fea57",
   "metadata": {},
   "outputs": [],
   "source": [
    "# A[-1, Nv-3] += sympy.I * a * sympy.sqrt(Nv)/ sympy.sqrt(2)  * k / np.abs(k)\n",
    "# A[-1, Nv-2] += sympy.I * b * sympy.sqrt(Nv)/ sympy.sqrt(2)  #* k / np.abs(k)\n",
    "A[-1, Nv-1] += sympy.I * c * sympy.sqrt(Nv)/ sympy.sqrt(2) # * k / np.abs(k)"
   ]
  },
  {
   "cell_type": "code",
   "execution_count": 14,
   "id": "7c2fb82a",
   "metadata": {},
   "outputs": [
    {
     "data": {
      "text/latex": [
       "$\\displaystyle \\left[\\begin{matrix}0 & \\frac{\\sqrt{2}}{2} & 0 & 0 & 0\\\\\\frac{\\sqrt{2}}{2} & 0 & 1 & 0 & 0\\\\0 & 1 & 0 & \\frac{\\sqrt{6}}{2} & 0\\\\0 & 0 & \\frac{\\sqrt{6}}{2} & 0 & \\sqrt{2}\\\\0 & 0 & 0 & \\sqrt{2} & \\frac{\\sqrt{10} i c}{2}\\end{matrix}\\right]$"
      ],
      "text/plain": [
       "Matrix([\n",
       "[        0, sqrt(2)/2,         0,         0,              0],\n",
       "[sqrt(2)/2,         0,         1,         0,              0],\n",
       "[        0,         1,         0, sqrt(6)/2,              0],\n",
       "[        0,         0, sqrt(6)/2,         0,        sqrt(2)],\n",
       "[        0,         0,         0,   sqrt(2), sqrt(10)*I*c/2]])"
      ]
     },
     "execution_count": 14,
     "metadata": {},
     "output_type": "execute_result"
    }
   ],
   "source": [
    "A"
   ]
  },
  {
   "cell_type": "code",
   "execution_count": 15,
   "id": "269ee348",
   "metadata": {},
   "outputs": [],
   "source": [
    "I = np.eye(Nv, dtype=int)"
   ]
  },
  {
   "cell_type": "code",
   "execution_count": 16,
   "id": "7b281eb0",
   "metadata": {},
   "outputs": [],
   "source": [
    "M = sympy.Matrix(I*xi - k/np.abs(k)*A)"
   ]
  },
  {
   "cell_type": "code",
   "execution_count": 17,
   "id": "a1d81a26",
   "metadata": {},
   "outputs": [],
   "source": [
    "R_approx = sympy.simplify(sympy.simplify(M.inv()[0, 1]/sympy.sqrt(2) * k/np.abs(k)))"
   ]
  },
  {
   "cell_type": "code",
   "execution_count": 18,
   "id": "b92d953c-593f-48ae-9660-520a5e39d804",
   "metadata": {},
   "outputs": [
    {
     "data": {
      "text/latex": [
       "$\\displaystyle \\frac{2 \\sqrt{10} c \\xi^{2} \\left|{k}\\right| - 3 \\sqrt{10} c \\left|{k}\\right| + 4 i k \\xi^{3} - 14 i k \\xi}{4 \\sqrt{10} c \\xi^{4} \\left|{k}\\right| - 12 \\sqrt{10} c \\xi^{2} \\left|{k}\\right| + 3 \\sqrt{10} c \\left|{k}\\right| + 8 i k \\xi^{5} - 40 i k \\xi^{3} + 30 i k \\xi}$"
      ],
      "text/plain": [
       "(2*sqrt(10)*c*xi**2*Abs(k) - 3*sqrt(10)*c*Abs(k) + 4*I*k*xi**3 - 14*I*k*xi)/(4*sqrt(10)*c*xi**4*Abs(k) - 12*sqrt(10)*c*xi**2*Abs(k) + 3*sqrt(10)*c*Abs(k) + 8*I*k*xi**5 - 40*I*k*xi**3 + 30*I*k*xi)"
      ]
     },
     "execution_count": 18,
     "metadata": {},
     "output_type": "execute_result"
    }
   ],
   "source": [
    "R_approx"
   ]
  },
  {
   "cell_type": "code",
   "execution_count": 19,
   "id": "da350f1d-7207-438d-a825-178bfc70d955",
   "metadata": {},
   "outputs": [
    {
     "name": "stdout",
     "output_type": "stream",
     "text": [
      "\\frac{2 \\sqrt{10} c \\xi^{2} \\left|{k}\\right| - 3 \\sqrt{10} c \\left|{k}\\right| + 4 i k \\xi^{3} - 14 i k \\xi}{4 \\sqrt{10} c \\xi^{4} \\left|{k}\\right| - 12 \\sqrt{10} c \\xi^{2} \\left|{k}\\right| + 3 \\sqrt{10} c \\left|{k}\\right| + 8 i k \\xi^{5} - 40 i k \\xi^{3} + 30 i k \\xi}\n"
     ]
    }
   ],
   "source": [
    "print_latex(R_approx)"
   ]
  },
  {
   "cell_type": "markdown",
   "id": "962e3e9e-3c35-4f1e-af98-ce18b418da1f",
   "metadata": {},
   "source": [
    "## Asymptotic Expansion"
   ]
  },
  {
   "cell_type": "markdown",
   "id": "e73111dc-9617-4ab4-a7c1-8f6069a5f74a",
   "metadata": {},
   "source": [
    "### Adiabatic limit $\\xi \\to 0$"
   ]
  },
  {
   "cell_type": "code",
   "execution_count": 20,
   "id": "ee662af8-5ccd-450c-bf4b-6ca2b071d893",
   "metadata": {},
   "outputs": [],
   "source": [
    "asymptotics_0 = R_approx.series(xi, 0, 3)"
   ]
  },
  {
   "cell_type": "code",
   "execution_count": 21,
   "id": "beb89bcd-619b-40ff-b3ad-c8f15675a9d0",
   "metadata": {},
   "outputs": [
    {
     "data": {
      "text/latex": [
       "$\\displaystyle - \\frac{\\left|{k}\\right|}{k} + \\xi \\left(- \\frac{7 \\sqrt{10} i}{15 c} + \\frac{\\sqrt{10} i \\left|{k}\\right|}{c k}\\right) + \\xi^{2} \\left(- \\frac{\\left(4 - \\frac{10}{c^{2}}\\right) \\left|{k}\\right|}{k} + \\frac{2 \\left|{k}\\right|}{3 k} - \\frac{14}{3 c^{2}}\\right) + O\\left(\\xi^{3}\\right)$"
      ],
      "text/plain": [
       "-Abs(k)/k + xi*(-7*sqrt(10)*I/(15*c) + sqrt(10)*I*Abs(k)/(c*k)) + xi**2*(-(4 - 10/c**2)*Abs(k)/k + 2*Abs(k)/(3*k) - 14/(3*c**2)) + O(xi**3)"
      ]
     },
     "execution_count": 21,
     "metadata": {},
     "output_type": "execute_result"
    }
   ],
   "source": [
    "asymptotics_0"
   ]
  },
  {
   "cell_type": "code",
   "execution_count": 22,
   "id": "0f688bac-74c7-4348-a1fc-a96118d5cee7",
   "metadata": {},
   "outputs": [
    {
     "name": "stdout",
     "output_type": "stream",
     "text": [
      "- \\frac{\\left|{k}\\right|}{k} + \\xi \\left(- \\frac{7 \\sqrt{10} i}{15 c} + \\frac{\\sqrt{10} i \\left|{k}\\right|}{c k}\\right) + \\xi^{2} \\left(- \\frac{\\left(4 - \\frac{10}{c^{2}}\\right) \\left|{k}\\right|}{k} + \\frac{2 \\left|{k}\\right|}{3 k} - \\frac{14}{3 c^{2}}\\right) + O\\left(\\xi^{3}\\right)\n"
     ]
    }
   ],
   "source": [
    "print_latex(asymptotics_0)"
   ]
  },
  {
   "cell_type": "code",
   "execution_count": 23,
   "id": "72758dcc-9961-4aad-8c2f-aaa1dc468ab1",
   "metadata": {},
   "outputs": [
    {
     "data": {
      "text/latex": [
       "$\\displaystyle - \\frac{\\left(4 - \\frac{10}{c^{2}}\\right) \\left|{k}\\right|}{k} + \\frac{2 \\left|{k}\\right|}{3 k} - \\frac{14}{3 c^{2}}$"
      ],
      "text/plain": [
       "-(4 - 10/c**2)*Abs(k)/k + 2*Abs(k)/(3*k) - 14/(3*c**2)"
      ]
     },
     "execution_count": 23,
     "metadata": {},
     "output_type": "execute_result"
    }
   ],
   "source": [
    "asymptotics_0.coeff(xi, 2)"
   ]
  },
  {
   "cell_type": "code",
   "execution_count": 24,
   "id": "4451673b-74bc-413b-ac08-49ef76a31d60",
   "metadata": {},
   "outputs": [],
   "source": [
    "sol_coeff = sympy.solve(asymptotics_0.coeff(xi, 1) + sympy.I*sympy.sqrt(sympy.pi), c)"
   ]
  },
  {
   "cell_type": "code",
   "execution_count": 29,
   "id": "1bbb4725-6c12-4a45-ac37-b19c05d28a44",
   "metadata": {},
   "outputs": [
    {
     "data": {
      "text/latex": [
       "$\\displaystyle \\frac{7 \\sqrt{10}}{15 \\sqrt{\\pi}} - \\frac{\\sqrt{10} \\left|{k}\\right|}{\\sqrt{\\pi} k}$"
      ],
      "text/plain": [
       "7*sqrt(10)/(15*sqrt(pi)) - sqrt(10)*Abs(k)/(sqrt(pi)*k)"
      ]
     },
     "execution_count": 29,
     "metadata": {},
     "output_type": "execute_result"
    }
   ],
   "source": [
    "sympy.expand(sol_coeff[0])"
   ]
  },
  {
   "cell_type": "markdown",
   "id": "420e38c4-1c23-4f93-b990-16bbe8cfff1f",
   "metadata": {},
   "source": [
    "### Fluid (cold plasma) limit $\\xi \\to \\infty$"
   ]
  },
  {
   "cell_type": "code",
   "execution_count": 30,
   "id": "cbc69e50-aa77-489a-98a6-5ca38ffa5ff4",
   "metadata": {},
   "outputs": [],
   "source": [
    "asymptotics_inf = R_approx.series(xi, oo, 6)"
   ]
  },
  {
   "cell_type": "code",
   "execution_count": 31,
   "id": "a76f1377-49c3-4967-86be-e5e8909ad4f6",
   "metadata": {},
   "outputs": [
    {
     "data": {
      "text/latex": [
       "$\\displaystyle \\frac{- \\frac{5 \\sqrt{10} i c^{3}}{8} + \\frac{7 \\sqrt{10} i c}{8} - \\frac{\\sqrt{10} i c \\left(5 - \\frac{5 c^{2}}{2}\\right) \\left|{k}\\right|}{4 k} + \\frac{3 \\sqrt{10} i c \\left|{k}\\right|}{8 k}}{\\xi^{5}} + \\frac{- \\frac{5 c^{2}}{4} + \\frac{5 c^{2} \\left|{k}\\right|}{4 k} + \\frac{3}{4}}{\\xi^{4}} + \\frac{\\frac{\\sqrt{10} i c}{4} - \\frac{\\sqrt{10} i c \\left|{k}\\right|}{4 k}}{\\xi^{3}} + \\frac{1}{2 \\xi^{2}} + O\\left(\\frac{1}{\\xi^{6}}; \\xi\\rightarrow \\infty\\right)$"
      ],
      "text/plain": [
       "(-5*sqrt(10)*I*c**3/8 + 7*sqrt(10)*I*c/8 - sqrt(10)*I*c*(5 - 5*c**2/2)*Abs(k)/(4*k) + 3*sqrt(10)*I*c*Abs(k)/(8*k))/xi**5 + (-5*c**2/4 + 5*c**2*Abs(k)/(4*k) + 3/4)/xi**4 + (sqrt(10)*I*c/4 - sqrt(10)*I*c*Abs(k)/(4*k))/xi**3 + 1/(2*xi**2) + O(xi**(-6), (xi, oo))"
      ]
     },
     "execution_count": 31,
     "metadata": {},
     "output_type": "execute_result"
    }
   ],
   "source": [
    "asymptotics_inf"
   ]
  },
  {
   "cell_type": "code",
   "execution_count": 32,
   "id": "7fed8959-f2c7-4a53-b40e-b2145ecbdcb1",
   "metadata": {},
   "outputs": [
    {
     "name": "stdout",
     "output_type": "stream",
     "text": [
      "\\frac{- \\frac{5 \\sqrt{10} i c^{3}}{8} + \\frac{7 \\sqrt{10} i c}{8} - \\frac{\\sqrt{10} i c \\left(5 - \\frac{5 c^{2}}{2}\\right) \\left|{k}\\right|}{4 k} + \\frac{3 \\sqrt{10} i c \\left|{k}\\right|}{8 k}}{\\xi^{5}} + \\frac{- \\frac{5 c^{2}}{4} + \\frac{5 c^{2} \\left|{k}\\right|}{4 k} + \\frac{3}{4}}{\\xi^{4}} + \\frac{\\frac{\\sqrt{10} i c}{4} - \\frac{\\sqrt{10} i c \\left|{k}\\right|}{4 k}}{\\xi^{3}} + \\frac{1}{2 \\xi^{2}} + O\\left(\\frac{1}{\\xi^{6}}; \\xi\\rightarrow \\infty\\right)\n"
     ]
    }
   ],
   "source": [
    "print_latex(asymptotics_inf)"
   ]
  },
  {
   "cell_type": "markdown",
   "id": "68445062-61cc-4368-ab5b-2aed0d3150ac",
   "metadata": {},
   "source": [
    "## Comparison with Hammett-Perkins 1990's approximation"
   ]
  },
  {
   "cell_type": "code",
   "execution_count": 33,
   "id": "28153999",
   "metadata": {},
   "outputs": [],
   "source": [
    "def Z_fun(z):\n",
    "    return 1j*np.sqrt(np.pi)*wofz(z)\n",
    "\n",
    "def R(zeta):\n",
    "    return -(1 + zeta*Z_fun(zeta))\n",
    "\n",
    "def R_HP3_hermite(zeta):\n",
    "    c = -np.sqrt(2)*2/np.sqrt(3*np.pi)\n",
    "    return (np.sqrt(6)*c + 1j*zeta)/(2*np.sqrt(6)*c*(zeta**2) - np.sqrt(6)*c + 2j*(zeta**3) - 3j*zeta)\n",
    "\n",
    "def R_HP4_hermite(zeta):\n",
    "    c = -3*np.sqrt(np.pi)/(4*np.sqrt(2))\n",
    "    return (2*np.sqrt(2)*c*zeta + 2j*(zeta**2) - 3j)/(4*np.sqrt(2)*c*(zeta**3) - 6*np.sqrt(2)*c*zeta + 4j*(zeta**4) - 12j*(zeta**2) + 3j)\n",
    "\n",
    "def R_HP5_hermite(xi):\n",
    "    c = -8 * np.sqrt(10)/ (15*np.sqrt(np.pi))\n",
    "    return (2*np.sqrt(10)*c*(xi**2) - 3*np.sqrt(10)*c + 4j*(xi**3) - 14j*xi)/(4*np.sqrt(10)*c*(xi**4) - 12*np.sqrt(10)*c*(xi**2) + 3*np.sqrt(10)*c + 8j*(xi**5) - 40j*(xi**3) + 30j*xi)\n",
    "\n",
    "def RHP3(xi):\n",
    "    return -(-1j*xi + (2/np.sqrt(np.pi)))/((2/(np.sqrt(np.pi))) - 3j*xi - 4/(np.sqrt(np.pi)) * (xi**2) + 2j*(xi**3))\n",
    "\n",
    "def RHP4(xi):\n",
    "    return (-4 + 2j*np.sqrt(np.pi)*xi + (3*np.pi -8)*(xi**2))/(4 - 6j*np.sqrt(np.pi)*xi - (9*np.pi - 16)*(xi**2) + 4j*np.sqrt(np.pi)*(xi**3) + 2*(3*np.pi - 8)*(xi**4))"
   ]
  },
  {
   "cell_type": "code",
   "execution_count": 34,
   "id": "97efae74-e6aa-4648-a8be-6f3f19be4acf",
   "metadata": {},
   "outputs": [],
   "source": [
    "zeta = 10**np.linspace(-2, 3, 200)"
   ]
  },
  {
   "cell_type": "code",
   "execution_count": 35,
   "id": "fc3ec876-13b5-44be-9b4c-9b237f8da909",
   "metadata": {},
   "outputs": [],
   "source": [
    "R_HP3_like = R_HP3_hermite(zeta)\n",
    "R_HP4_like = R_HP4_hermite(zeta)\n",
    "R_HP5_like = R_HP5_hermite(zeta)\n",
    "R_true = R(zeta)"
   ]
  },
  {
   "cell_type": "code",
   "execution_count": 36,
   "id": "4abf5e85-d790-49a4-85b8-4d8f26eec7ef",
   "metadata": {},
   "outputs": [],
   "source": [
    "R_HP3 = RHP3(zeta)\n",
    "R_HP4 = RHP4(zeta)"
   ]
  },
  {
   "cell_type": "code",
   "execution_count": 37,
   "id": "9306f4df-4df6-47e1-b7f8-39584345c7ff",
   "metadata": {},
   "outputs": [
    {
     "data": {
      "image/png": "[encoded data removed]",
      "text/plain": [
       "<Figure size 1100x500 with 2 Axes>"
      ]
     },
     "metadata": {},
     "output_type": "display_data"
    }
   ],
   "source": [
    "fig, ax = plt.subplots(ncols=2, figsize=(11, 5))\n",
    "\n",
    "ax[0].plot(zeta, np.real(R_true), label=r\"kinetic response $R(\\xi)$\", c=\"blue\", linewidth=3)\n",
    "\n",
    "ax[0].plot(zeta, np.real(R_HP3), \"--\", label=r\"HP$_{3}$ (fluid)\", c=\"red\", linewidth=3, alpha=0.7)\n",
    "ax[0].plot(zeta, np.real(R_HP4), \"-\", label=r\"HP$_{4}$ (fluid)\", c=\"orange\", linewidth=3, alpha=0.7)\n",
    "ax[0].plot(zeta, np.real(R_HP3_like), label=r\"HP$_{3}$ (Hermite)\", c=\"purple\", ls=\"-.\", linewidth=3, alpha=0.7)\n",
    "ax[0].plot(zeta, np.real(R_HP4_like), label=r\"HP$_{4}$ (Hermite)\", c=\"green\", ls=\":\", linewidth=3, alpha=0.7)\n",
    "ax[0].plot(zeta, np.real(R_HP5_like), label=r\"HP$_{5}$ (Hermite)\", c=\"pink\", ls=\"-\", linewidth=3, alpha=0.7)\n",
    "\n",
    "ax[1].plot(zeta, np.imag(R_true), c=\"blue\", linewidth=3)\n",
    "ax[1].plot(zeta, np.imag(R_HP3), \"--\", c=\"red\", linewidth=3, alpha=0.7)\n",
    "ax[1].plot(zeta, np.imag(R_HP4), \"-\",  c=\"orange\", linewidth=3, alpha=0.7)\n",
    "ax[1].plot(zeta, np.imag(R_HP3_like), ls=\"-.\", c=\"purple\", linewidth=3, alpha=0.7)\n",
    "ax[1].plot(zeta, np.imag(R_HP4_like), ls=\"-.\", c=\"green\", linewidth=3, alpha=0.7)\n",
    "ax[1].plot(zeta, np.imag(R_HP5_like), ls=\"-.\", c=\"pink\", linewidth=3, alpha=0.7)\n",
    "\n",
    "ax[0].set_ylim(-1.5, 0.8)\n",
    "ax[0].spines['right'].set_visible(False)\n",
    "ax[0].spines['top'].set_visible(False)\n",
    "ax[1].spines['right'].set_visible(False)\n",
    "ax[1].spines['top'].set_visible(False)\n",
    "ax[0].set_ylabel(r\"$Re(R(\\xi))$\")\n",
    "ax[1].set_ylabel(r\"$Im(R(\\xi))$\")\n",
    "ax[0].set_xlabel(r\"$\\xi = \\omega/(|k|v_{t} \\sqrt{2})$\")\n",
    "ax[1].set_xlabel(r\"$\\xi = \\omega/(|k|v_{t} \\sqrt{2})$\")\n",
    "ax[0].set_xscale(\"log\")\n",
    "ax[1].set_xscale(\"log\")\n",
    "ax[0].set_xlim(1e-2, 1e3)\n",
    "ax[1].set_xlim(1e-2, 1e3)\n",
    "legend = ax[0].legend(ncols=1, fancybox=False, shadow=False, fontsize=12, loc='lower right')\n",
    "legend.get_frame().set_alpha(0)\n",
    "plt.tight_layout()\n",
    "#plt.savefig(\"../figs/symbolic_response_function_SPS_HPlike.png\", dpi=600)"
   ]
  },
  {
   "cell_type": "markdown",
   "id": "61725b2a-d026-48fd-a62a-a268b43ad938",
   "metadata": {},
   "source": [
    "# Landau Damping Dispersion Relation"
   ]
  },
  {
   "cell_type": "code",
   "execution_count": 38,
   "id": "ba49ed8d-8bda-4e6f-aa7d-0b77dbb36686",
   "metadata": {},
   "outputs": [],
   "source": [
    "def disp_k(omega, k=1):\n",
    "    return k**2 - R(zeta=omega/(np.sqrt(2)*k))\n",
    "\n",
    "def disp_hp3(omega, k=1, nu=1):\n",
    "    return k**2 - RHP3(xi=omega/(k*np.sqrt(2)))\n",
    "\n",
    "def disp_hp4(omega, k=1, nu=1):\n",
    "    return k**2 - RHP4(xi=omega/(k*np.sqrt(2)))\n",
    "\n",
    "def disp_R6(omega, k=1, nu=1):\n",
    "    return k**2 -  R6(zeta=omega/(k*np.sqrt(2)), col=nu)"
   ]
  },
  {
   "cell_type": "code",
   "execution_count": 39,
   "id": "3172cff3-a8b0-4cd7-8de2-2d64f376b67a",
   "metadata": {},
   "outputs": [],
   "source": [
    "res_true = scipy.optimize.newton(disp_k, 1.41-0.81j, maxiter=100)"
   ]
  },
  {
   "cell_type": "code",
   "execution_count": 40,
   "id": "fd97872b-0382-4833-ba5e-d4675a27f7c5",
   "metadata": {},
   "outputs": [],
   "source": [
    "res_hp3 = scipy.optimize.newton(disp_hp3, 2-0.61j, maxiter=100)"
   ]
  },
  {
   "cell_type": "code",
   "execution_count": 41,
   "id": "c7f748da-ab22-43cd-9c50-5c9c177fd6fa",
   "metadata": {},
   "outputs": [],
   "source": [
    "res_hp4 = scipy.optimize.newton(disp_hp4, 2-0.61j, maxiter=100)"
   ]
  },
  {
   "cell_type": "code",
   "execution_count": 42,
   "id": "383d84df-ca06-4ff9-8676-eedfebfeaee5",
   "metadata": {},
   "outputs": [
    {
     "ename": "NameError",
     "evalue": "name 'R6' is not defined",
     "output_type": "error",
     "traceback": [
      "\u001B[0;31m---------------------------------------------------------------------------\u001B[0m",
      "\u001B[0;31mNameError\u001B[0m                                 Traceback (most recent call last)",
      "Cell \u001B[0;32mIn[42], line 6\u001B[0m\n\u001B[1;32m      4\u001B[0m omega_i \u001B[38;5;241m=\u001B[39m np\u001B[38;5;241m.\u001B[39mlinspace(\u001B[38;5;241m-\u001B[39m\u001B[38;5;241m1\u001B[39m, \u001B[38;5;241m0\u001B[39m, \u001B[38;5;28mint\u001B[39m(\u001B[38;5;241m1e3\u001B[39m))\n\u001B[1;32m      5\u001B[0m X, Y \u001B[38;5;241m=\u001B[39m np\u001B[38;5;241m.\u001B[39mmeshgrid(omega_r, omega_i)\n\u001B[0;32m----> 6\u001B[0m Z \u001B[38;5;241m=\u001B[39m \u001B[43mdisp_R6\u001B[49m\u001B[43m(\u001B[49m\u001B[43mX\u001B[49m\u001B[38;5;241;43m+\u001B[39;49m\u001B[38;5;241;43m1\u001B[39;49m\u001B[43mj\u001B[49m\u001B[38;5;241;43m*\u001B[39;49m\u001B[43mY\u001B[49m\u001B[43m,\u001B[49m\u001B[43m \u001B[49m\u001B[43mnu\u001B[49m\u001B[38;5;241;43m=\u001B[39;49m\u001B[43mnu_\u001B[49m\u001B[43m)\u001B[49m\n\u001B[1;32m      7\u001B[0m index \u001B[38;5;241m=\u001B[39m np\u001B[38;5;241m.\u001B[39munravel_index(np\u001B[38;5;241m.\u001B[39mnanargmin(np\u001B[38;5;241m.\u001B[39mabs(Z)), Z\u001B[38;5;241m.\u001B[39mshape)\n\u001B[1;32m      8\u001B[0m \u001B[38;5;28;01mif\u001B[39;00m np\u001B[38;5;241m.\u001B[39mnanmin(np\u001B[38;5;241m.\u001B[39mabs(Z)) \u001B[38;5;241m<\u001B[39m \u001B[38;5;241m1E-2\u001B[39m:\n",
      "Cell \u001B[0;32mIn[38], line 11\u001B[0m, in \u001B[0;36mdisp_R6\u001B[0;34m(omega, k, nu)\u001B[0m\n\u001B[1;32m     10\u001B[0m \u001B[38;5;28;01mdef\u001B[39;00m \u001B[38;5;21mdisp_R6\u001B[39m(omega, k\u001B[38;5;241m=\u001B[39m\u001B[38;5;241m1\u001B[39m, nu\u001B[38;5;241m=\u001B[39m\u001B[38;5;241m1\u001B[39m):\n\u001B[0;32m---> 11\u001B[0m     \u001B[38;5;28;01mreturn\u001B[39;00m k\u001B[38;5;241m*\u001B[39m\u001B[38;5;241m*\u001B[39m\u001B[38;5;241m2\u001B[39m \u001B[38;5;241m-\u001B[39m  \u001B[43mR6\u001B[49m(zeta\u001B[38;5;241m=\u001B[39momega\u001B[38;5;241m/\u001B[39m(k\u001B[38;5;241m*\u001B[39mnp\u001B[38;5;241m.\u001B[39msqrt(\u001B[38;5;241m2\u001B[39m)), col\u001B[38;5;241m=\u001B[39mnu)\n",
      "\u001B[0;31mNameError\u001B[0m: name 'R6' is not defined"
     ]
    },
    {
     "data": {
      "image/png": "[encoded data removed]",
      "text/plain": [
       "<Figure size 600x600 with 1 Axes>"
      ]
     },
     "metadata": {},
     "output_type": "display_data"
    }
   ],
   "source": [
    "fig, ax = plt.subplots(figsize=(6, 6))\n",
    "for nu_ in range(-20, 0):\n",
    "    omega_r = np.linspace(0, 3, int(1e3))\n",
    "    omega_i = np.linspace(-1, 0, int(1e3))\n",
    "    X, Y = np.meshgrid(omega_r, omega_i)\n",
    "    Z = disp_R6(X+1j*Y, nu=nu_)\n",
    "    index = np.unravel_index(np.nanargmin(np.abs(Z)), Z.shape)\n",
    "    if np.nanmin(np.abs(Z)) < 1E-2:\n",
    "        ax.scatter(nu_, np.abs(Y[index].real-res_true.imag), c=\"blue\")\n",
    "\n",
    "ax.axhline(np.abs(res_hp3.imag-res_true.imag), label=\"Hammett-Perkins$_{3}$\", c=\"red\", linewidth=3)\n",
    "ax.axhline(np.abs(res_hp4.imag-res_true.imag), label=\"Hammett-Perkins$_{4}$\", c=\"green\", ls=\"--\", linewidth=3)\n",
    "ax.set_xlabel(r\"artificial collisions frequency $\\nu$\")\n",
    "ax.set_ylabel(r\"damping rate $\\gamma$ absolute error w/ $k=1$\")\n",
    "\n",
    "legend = ax.legend(ncols=1, fancybox=False, shadow=False, fontsize=12, loc='upper right')\n",
    "legend.get_frame().set_alpha(0)\n",
    "plt.grid()\n",
    "\n",
    "plt.tight_layout()"
   ]
  },
  {
   "cell_type": "code",
   "execution_count": null,
   "id": "0ed01ad4-9755-4920-af0c-9ecffb2cbf67",
   "metadata": {},
   "outputs": [],
   "source": []
  }
 ],
 "metadata": {
  "kernelspec": {
   "display_name": "Python 3 (ipykernel)",
   "language": "python",
   "name": "python3"
  },
  "language_info": {
   "codemirror_mode": {
    "name": "ipython",
    "version": 3
   },
   "file_extension": ".py",
   "mimetype": "text/x-python",
   "name": "python",
   "nbconvert_exporter": "python",
   "pygments_lexer": "ipython3",
   "version": "3.9.19"
  }
 },
 "nbformat": 4,
 "nbformat_minor": 5
}